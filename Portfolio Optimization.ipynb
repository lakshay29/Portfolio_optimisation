{
 "cells": [
  {
   "cell_type": "markdown",
   "metadata": {},
   "source": [
    "# Portfolio Optimization"
   ]
  },
  {
   "cell_type": "markdown",
   "metadata": {},
   "source": [
    "“Modern Portfolio Theory (MPT), a hypothesis put forth by Harry Markowitz in his paper “Portfolio Selection,” (published in 1952 by the Journal of Finance) is an investment theory based on the idea that risk-averse investors can construct portfolios to optimize or maximize expected return based on a given level of market risk, emphasizing that risk is an inherent part of higher reward. It is one of the most important and influential economic theories dealing with finance and investment."
   ]
  },
  {
   "cell_type": "markdown",
   "metadata": {},
   "source": [
    "## Monte Carlo Simulation for Optimization Search\n",
    "\n",
    "\n",
    "We could randomly try to find the optimal portfolio balance using Monte Carlo simulation"
   ]
  },
  {
   "cell_type": "code",
   "execution_count": 1,
   "metadata": {},
   "outputs": [],
   "source": [
    "import numpy as np\n",
    "import pandas as pd\n",
    "import matplotlib.pyplot as plt\n",
    "%matplotlib inline"
   ]
  },
  {
   "cell_type": "code",
   "execution_count": 26,
   "metadata": {},
   "outputs": [],
   "source": [
    "# Download and get Daily Returns\n",
    "aapl = pd.read_csv('AAPL_CLOSE',index_col='Date',parse_dates=True)\n",
    "cisco = pd.read_csv('CISCO_CLOSE',index_col='Date',parse_dates=True)\n",
    "ibm = pd.read_csv('IBM_CLOSE',index_col='Date',parse_dates=True)\n",
    "amzn = pd.read_csv('AMZN_CLOSE',index_col='Date',parse_dates=True)\n",
    "goog = pd.read_csv('GOOG_CLOSE',index_col='Date',parse_dates=True)"
   ]
  },
  {
   "cell_type": "code",
   "execution_count": 28,
   "metadata": {},
   "outputs": [
    {
     "data": {
      "text/html": [
       "<div>\n",
       "<style scoped>\n",
       "    .dataframe tbody tr th:only-of-type {\n",
       "        vertical-align: middle;\n",
       "    }\n",
       "\n",
       "    .dataframe tbody tr th {\n",
       "        vertical-align: top;\n",
       "    }\n",
       "\n",
       "    .dataframe thead th {\n",
       "        text-align: right;\n",
       "    }\n",
       "</style>\n",
       "<table border=\"1\" class=\"dataframe\">\n",
       "  <thead>\n",
       "    <tr style=\"text-align: right;\">\n",
       "      <th></th>\n",
       "      <th>aapl</th>\n",
       "      <th>cisco</th>\n",
       "      <th>ibm</th>\n",
       "      <th>amzn</th>\n",
       "      <th>goog</th>\n",
       "    </tr>\n",
       "    <tr>\n",
       "      <th>Date</th>\n",
       "      <th></th>\n",
       "      <th></th>\n",
       "      <th></th>\n",
       "      <th></th>\n",
       "      <th></th>\n",
       "    </tr>\n",
       "  </thead>\n",
       "  <tbody>\n",
       "    <tr>\n",
       "      <td>2012-01-03</td>\n",
       "      <td>53.063218</td>\n",
       "      <td>15.752778</td>\n",
       "      <td>160.830881</td>\n",
       "      <td>179.03</td>\n",
       "      <td>NaN</td>\n",
       "    </tr>\n",
       "    <tr>\n",
       "      <td>2012-01-04</td>\n",
       "      <td>53.348386</td>\n",
       "      <td>16.057180</td>\n",
       "      <td>160.174781</td>\n",
       "      <td>177.51</td>\n",
       "      <td>NaN</td>\n",
       "    </tr>\n",
       "    <tr>\n",
       "      <td>2012-01-05</td>\n",
       "      <td>53.940658</td>\n",
       "      <td>15.997991</td>\n",
       "      <td>159.415086</td>\n",
       "      <td>177.61</td>\n",
       "      <td>NaN</td>\n",
       "    </tr>\n",
       "    <tr>\n",
       "      <td>2012-01-06</td>\n",
       "      <td>54.504543</td>\n",
       "      <td>15.938801</td>\n",
       "      <td>157.584912</td>\n",
       "      <td>182.61</td>\n",
       "      <td>NaN</td>\n",
       "    </tr>\n",
       "    <tr>\n",
       "      <td>2012-01-09</td>\n",
       "      <td>54.418089</td>\n",
       "      <td>16.040268</td>\n",
       "      <td>156.764786</td>\n",
       "      <td>178.56</td>\n",
       "      <td>NaN</td>\n",
       "    </tr>\n",
       "  </tbody>\n",
       "</table>\n",
       "</div>"
      ],
      "text/plain": [
       "                 aapl      cisco         ibm    amzn  goog\n",
       "Date                                                      \n",
       "2012-01-03  53.063218  15.752778  160.830881  179.03   NaN\n",
       "2012-01-04  53.348386  16.057180  160.174781  177.51   NaN\n",
       "2012-01-05  53.940658  15.997991  159.415086  177.61   NaN\n",
       "2012-01-06  54.504543  15.938801  157.584912  182.61   NaN\n",
       "2012-01-09  54.418089  16.040268  156.764786  178.56   NaN"
      ]
     },
     "execution_count": 28,
     "metadata": {},
     "output_type": "execute_result"
    }
   ],
   "source": [
    "stocks = pd.concat([aapl,cisco,ibm,amzn,goog],axis=1)\n",
    "stocks.columns = ['aapl','cisco','ibm','amzn','goog']\n",
    "stocks.head()"
   ]
  },
  {
   "cell_type": "code",
   "execution_count": 31,
   "metadata": {},
   "outputs": [
    {
     "data": {
      "text/plain": [
       "aapl     0.000750\n",
       "cisco    0.000599\n",
       "ibm      0.000081\n",
       "amzn     0.001328\n",
       "goog     0.000578\n",
       "dtype: float64"
      ]
     },
     "execution_count": 31,
     "metadata": {},
     "output_type": "execute_result"
    }
   ],
   "source": [
    "mean_daily_ret = stocks.pct_change().mean()\n",
    "mean_daily_ret"
   ]
  },
  {
   "cell_type": "code",
   "execution_count": 32,
   "metadata": {},
   "outputs": [
    {
     "data": {
      "text/html": [
       "<div>\n",
       "<style scoped>\n",
       "    .dataframe tbody tr th:only-of-type {\n",
       "        vertical-align: middle;\n",
       "    }\n",
       "\n",
       "    .dataframe tbody tr th {\n",
       "        vertical-align: top;\n",
       "    }\n",
       "\n",
       "    .dataframe thead th {\n",
       "        text-align: right;\n",
       "    }\n",
       "</style>\n",
       "<table border=\"1\" class=\"dataframe\">\n",
       "  <thead>\n",
       "    <tr style=\"text-align: right;\">\n",
       "      <th></th>\n",
       "      <th>aapl</th>\n",
       "      <th>cisco</th>\n",
       "      <th>ibm</th>\n",
       "      <th>amzn</th>\n",
       "      <th>goog</th>\n",
       "    </tr>\n",
       "  </thead>\n",
       "  <tbody>\n",
       "    <tr>\n",
       "      <td>aapl</td>\n",
       "      <td>1.000000</td>\n",
       "      <td>0.301990</td>\n",
       "      <td>0.297498</td>\n",
       "      <td>0.235487</td>\n",
       "      <td>0.388794</td>\n",
       "    </tr>\n",
       "    <tr>\n",
       "      <td>cisco</td>\n",
       "      <td>0.301990</td>\n",
       "      <td>1.000000</td>\n",
       "      <td>0.424672</td>\n",
       "      <td>0.284470</td>\n",
       "      <td>0.368189</td>\n",
       "    </tr>\n",
       "    <tr>\n",
       "      <td>ibm</td>\n",
       "      <td>0.297498</td>\n",
       "      <td>0.424672</td>\n",
       "      <td>1.000000</td>\n",
       "      <td>0.258492</td>\n",
       "      <td>0.384048</td>\n",
       "    </tr>\n",
       "    <tr>\n",
       "      <td>amzn</td>\n",
       "      <td>0.235487</td>\n",
       "      <td>0.284470</td>\n",
       "      <td>0.258492</td>\n",
       "      <td>1.000000</td>\n",
       "      <td>0.581999</td>\n",
       "    </tr>\n",
       "    <tr>\n",
       "      <td>goog</td>\n",
       "      <td>0.388794</td>\n",
       "      <td>0.368189</td>\n",
       "      <td>0.384048</td>\n",
       "      <td>0.581999</td>\n",
       "      <td>1.000000</td>\n",
       "    </tr>\n",
       "  </tbody>\n",
       "</table>\n",
       "</div>"
      ],
      "text/plain": [
       "           aapl     cisco       ibm      amzn      goog\n",
       "aapl   1.000000  0.301990  0.297498  0.235487  0.388794\n",
       "cisco  0.301990  1.000000  0.424672  0.284470  0.368189\n",
       "ibm    0.297498  0.424672  1.000000  0.258492  0.384048\n",
       "amzn   0.235487  0.284470  0.258492  1.000000  0.581999\n",
       "goog   0.388794  0.368189  0.384048  0.581999  1.000000"
      ]
     },
     "execution_count": 32,
     "metadata": {},
     "output_type": "execute_result"
    }
   ],
   "source": [
    "stocks.pct_change(1).corr()"
   ]
  },
  {
   "cell_type": "markdown",
   "metadata": {},
   "source": [
    "# Simulating Thousands of Possible Allocations"
   ]
  },
  {
   "cell_type": "code",
   "execution_count": 33,
   "metadata": {},
   "outputs": [
    {
     "data": {
      "text/plain": [
       "<matplotlib.axes._subplots.AxesSubplot at 0x17655305cc8>"
      ]
     },
     "execution_count": 33,
     "metadata": {},
     "output_type": "execute_result"
    },
    {
     "data": {
      "image/png": "[encoded data removed]",
      "text/plain": [
       "<Figure size 432x288 with 1 Axes>"
      ]
     },
     "metadata": {
      "needs_background": "light"
     },
     "output_type": "display_data"
    }
   ],
   "source": [
    "#Normalisation of prices\n",
    "stock_normed = stocks/stocks.iloc[0]\n",
    "stock_normed.plot()"
   ]
  },
  {
   "cell_type": "code",
   "execution_count": 34,
   "metadata": {},
   "outputs": [
    {
     "data": {
      "text/html": [
       "<div>\n",
       "<style scoped>\n",
       "    .dataframe tbody tr th:only-of-type {\n",
       "        vertical-align: middle;\n",
       "    }\n",
       "\n",
       "    .dataframe tbody tr th {\n",
       "        vertical-align: top;\n",
       "    }\n",
       "\n",
       "    .dataframe thead th {\n",
       "        text-align: right;\n",
       "    }\n",
       "</style>\n",
       "<table border=\"1\" class=\"dataframe\">\n",
       "  <thead>\n",
       "    <tr style=\"text-align: right;\">\n",
       "      <th></th>\n",
       "      <th>aapl</th>\n",
       "      <th>cisco</th>\n",
       "      <th>ibm</th>\n",
       "      <th>amzn</th>\n",
       "      <th>goog</th>\n",
       "    </tr>\n",
       "    <tr>\n",
       "      <th>Date</th>\n",
       "      <th></th>\n",
       "      <th></th>\n",
       "      <th></th>\n",
       "      <th></th>\n",
       "      <th></th>\n",
       "    </tr>\n",
       "  </thead>\n",
       "  <tbody>\n",
       "    <tr>\n",
       "      <td>2012-01-03</td>\n",
       "      <td>NaN</td>\n",
       "      <td>NaN</td>\n",
       "      <td>NaN</td>\n",
       "      <td>NaN</td>\n",
       "      <td>NaN</td>\n",
       "    </tr>\n",
       "    <tr>\n",
       "      <td>2012-01-04</td>\n",
       "      <td>0.005374</td>\n",
       "      <td>0.019324</td>\n",
       "      <td>-0.004079</td>\n",
       "      <td>-0.008490</td>\n",
       "      <td>NaN</td>\n",
       "    </tr>\n",
       "    <tr>\n",
       "      <td>2012-01-05</td>\n",
       "      <td>0.011102</td>\n",
       "      <td>-0.003686</td>\n",
       "      <td>-0.004743</td>\n",
       "      <td>0.000563</td>\n",
       "      <td>NaN</td>\n",
       "    </tr>\n",
       "    <tr>\n",
       "      <td>2012-01-06</td>\n",
       "      <td>0.010454</td>\n",
       "      <td>-0.003700</td>\n",
       "      <td>-0.011481</td>\n",
       "      <td>0.028152</td>\n",
       "      <td>NaN</td>\n",
       "    </tr>\n",
       "    <tr>\n",
       "      <td>2012-01-09</td>\n",
       "      <td>-0.001586</td>\n",
       "      <td>0.006366</td>\n",
       "      <td>-0.005204</td>\n",
       "      <td>-0.022178</td>\n",
       "      <td>NaN</td>\n",
       "    </tr>\n",
       "  </tbody>\n",
       "</table>\n",
       "</div>"
      ],
      "text/plain": [
       "                aapl     cisco       ibm      amzn  goog\n",
       "Date                                                    \n",
       "2012-01-03       NaN       NaN       NaN       NaN   NaN\n",
       "2012-01-04  0.005374  0.019324 -0.004079 -0.008490   NaN\n",
       "2012-01-05  0.011102 -0.003686 -0.004743  0.000563   NaN\n",
       "2012-01-06  0.010454 -0.003700 -0.011481  0.028152   NaN\n",
       "2012-01-09 -0.001586  0.006366 -0.005204 -0.022178   NaN"
      ]
     },
     "execution_count": 34,
     "metadata": {},
     "output_type": "execute_result"
    }
   ],
   "source": [
    "stock_daily_ret = stocks.pct_change(1)\n",
    "stock_daily_ret.head()"
   ]
  },
  {
   "cell_type": "code",
   "execution_count": 35,
   "metadata": {},
   "outputs": [
    {
     "data": {
      "text/html": [
       "<div>\n",
       "<style scoped>\n",
       "    .dataframe tbody tr th:only-of-type {\n",
       "        vertical-align: middle;\n",
       "    }\n",
       "\n",
       "    .dataframe tbody tr th {\n",
       "        vertical-align: top;\n",
       "    }\n",
       "\n",
       "    .dataframe thead th {\n",
       "        text-align: right;\n",
       "    }\n",
       "</style>\n",
       "<table border=\"1\" class=\"dataframe\">\n",
       "  <thead>\n",
       "    <tr style=\"text-align: right;\">\n",
       "      <th></th>\n",
       "      <th>aapl</th>\n",
       "      <th>cisco</th>\n",
       "      <th>ibm</th>\n",
       "      <th>amzn</th>\n",
       "      <th>goog</th>\n",
       "    </tr>\n",
       "    <tr>\n",
       "      <th>Date</th>\n",
       "      <th></th>\n",
       "      <th></th>\n",
       "      <th></th>\n",
       "      <th></th>\n",
       "      <th></th>\n",
       "    </tr>\n",
       "  </thead>\n",
       "  <tbody>\n",
       "    <tr>\n",
       "      <td>2012-01-03</td>\n",
       "      <td>NaN</td>\n",
       "      <td>NaN</td>\n",
       "      <td>NaN</td>\n",
       "      <td>NaN</td>\n",
       "      <td>NaN</td>\n",
       "    </tr>\n",
       "    <tr>\n",
       "      <td>2012-01-04</td>\n",
       "      <td>0.005360</td>\n",
       "      <td>0.019139</td>\n",
       "      <td>-0.004088</td>\n",
       "      <td>-0.008526</td>\n",
       "      <td>NaN</td>\n",
       "    </tr>\n",
       "    <tr>\n",
       "      <td>2012-01-05</td>\n",
       "      <td>0.011041</td>\n",
       "      <td>-0.003693</td>\n",
       "      <td>-0.004754</td>\n",
       "      <td>0.000563</td>\n",
       "      <td>NaN</td>\n",
       "    </tr>\n",
       "    <tr>\n",
       "      <td>2012-01-06</td>\n",
       "      <td>0.010400</td>\n",
       "      <td>-0.003707</td>\n",
       "      <td>-0.011547</td>\n",
       "      <td>0.027763</td>\n",
       "      <td>NaN</td>\n",
       "    </tr>\n",
       "    <tr>\n",
       "      <td>2012-01-09</td>\n",
       "      <td>-0.001587</td>\n",
       "      <td>0.006346</td>\n",
       "      <td>-0.005218</td>\n",
       "      <td>-0.022428</td>\n",
       "      <td>NaN</td>\n",
       "    </tr>\n",
       "  </tbody>\n",
       "</table>\n",
       "</div>"
      ],
      "text/plain": [
       "                aapl     cisco       ibm      amzn  goog\n",
       "Date                                                    \n",
       "2012-01-03       NaN       NaN       NaN       NaN   NaN\n",
       "2012-01-04  0.005360  0.019139 -0.004088 -0.008526   NaN\n",
       "2012-01-05  0.011041 -0.003693 -0.004754  0.000563   NaN\n",
       "2012-01-06  0.010400 -0.003707 -0.011547  0.027763   NaN\n",
       "2012-01-09 -0.001587  0.006346 -0.005218 -0.022428   NaN"
      ]
     },
     "execution_count": 35,
     "metadata": {},
     "output_type": "execute_result"
    }
   ],
   "source": [
    "#Calculating Log returns\n",
    "log_ret = np.log(stocks/stocks.shift(1))\n",
    "log_ret.head()"
   ]
  },
  {
   "cell_type": "code",
   "execution_count": 36,
   "metadata": {},
   "outputs": [
    {
     "data": {
      "text/plain": [
       "aapl     0.154803\n",
       "cisco    0.125291\n",
       "ibm      0.002788\n",
       "amzn     0.287153\n",
       "goog     0.116986\n",
       "dtype: float64"
      ]
     },
     "execution_count": 36,
     "metadata": {},
     "output_type": "execute_result"
    }
   ],
   "source": [
    "log_ret.mean() * 252"
   ]
  },
  {
   "cell_type": "code",
   "execution_count": 37,
   "metadata": {},
   "outputs": [
    {
     "data": {
      "text/html": [
       "<div>\n",
       "<style scoped>\n",
       "    .dataframe tbody tr th:only-of-type {\n",
       "        vertical-align: middle;\n",
       "    }\n",
       "\n",
       "    .dataframe tbody tr th {\n",
       "        vertical-align: top;\n",
       "    }\n",
       "\n",
       "    .dataframe thead th {\n",
       "        text-align: right;\n",
       "    }\n",
       "</style>\n",
       "<table border=\"1\" class=\"dataframe\">\n",
       "  <thead>\n",
       "    <tr style=\"text-align: right;\">\n",
       "      <th></th>\n",
       "      <th>aapl</th>\n",
       "      <th>cisco</th>\n",
       "      <th>ibm</th>\n",
       "      <th>amzn</th>\n",
       "      <th>goog</th>\n",
       "    </tr>\n",
       "  </thead>\n",
       "  <tbody>\n",
       "    <tr>\n",
       "      <td>aapl</td>\n",
       "      <td>0.000271</td>\n",
       "      <td>0.000071</td>\n",
       "      <td>0.000057</td>\n",
       "      <td>0.000075</td>\n",
       "      <td>0.000089</td>\n",
       "    </tr>\n",
       "    <tr>\n",
       "      <td>cisco</td>\n",
       "      <td>0.000071</td>\n",
       "      <td>0.000204</td>\n",
       "      <td>0.000072</td>\n",
       "      <td>0.000079</td>\n",
       "      <td>0.000074</td>\n",
       "    </tr>\n",
       "    <tr>\n",
       "      <td>ibm</td>\n",
       "      <td>0.000057</td>\n",
       "      <td>0.000072</td>\n",
       "      <td>0.000140</td>\n",
       "      <td>0.000059</td>\n",
       "      <td>0.000072</td>\n",
       "    </tr>\n",
       "    <tr>\n",
       "      <td>amzn</td>\n",
       "      <td>0.000075</td>\n",
       "      <td>0.000079</td>\n",
       "      <td>0.000059</td>\n",
       "      <td>0.000375</td>\n",
       "      <td>0.000175</td>\n",
       "    </tr>\n",
       "    <tr>\n",
       "      <td>goog</td>\n",
       "      <td>0.000089</td>\n",
       "      <td>0.000074</td>\n",
       "      <td>0.000072</td>\n",
       "      <td>0.000175</td>\n",
       "      <td>0.000225</td>\n",
       "    </tr>\n",
       "  </tbody>\n",
       "</table>\n",
       "</div>"
      ],
      "text/plain": [
       "           aapl     cisco       ibm      amzn      goog\n",
       "aapl   0.000271  0.000071  0.000057  0.000075  0.000089\n",
       "cisco  0.000071  0.000204  0.000072  0.000079  0.000074\n",
       "ibm    0.000057  0.000072  0.000140  0.000059  0.000072\n",
       "amzn   0.000075  0.000079  0.000059  0.000375  0.000175\n",
       "goog   0.000089  0.000074  0.000072  0.000175  0.000225"
      ]
     },
     "execution_count": 37,
     "metadata": {},
     "output_type": "execute_result"
    }
   ],
   "source": [
    "# Compute pairwise covariance of columns\n",
    "log_ret.cov()"
   ]
  },
  {
   "cell_type": "code",
   "execution_count": 38,
   "metadata": {},
   "outputs": [
    {
     "data": {
      "text/html": [
       "<div>\n",
       "<style scoped>\n",
       "    .dataframe tbody tr th:only-of-type {\n",
       "        vertical-align: middle;\n",
       "    }\n",
       "\n",
       "    .dataframe tbody tr th {\n",
       "        vertical-align: top;\n",
       "    }\n",
       "\n",
       "    .dataframe thead th {\n",
       "        text-align: right;\n",
       "    }\n",
       "</style>\n",
       "<table border=\"1\" class=\"dataframe\">\n",
       "  <thead>\n",
       "    <tr style=\"text-align: right;\">\n",
       "      <th></th>\n",
       "      <th>aapl</th>\n",
       "      <th>cisco</th>\n",
       "      <th>ibm</th>\n",
       "      <th>amzn</th>\n",
       "      <th>goog</th>\n",
       "    </tr>\n",
       "  </thead>\n",
       "  <tbody>\n",
       "    <tr>\n",
       "      <td>aapl</td>\n",
       "      <td>0.068326</td>\n",
       "      <td>0.017854</td>\n",
       "      <td>0.014464</td>\n",
       "      <td>0.018986</td>\n",
       "      <td>0.022488</td>\n",
       "    </tr>\n",
       "    <tr>\n",
       "      <td>cisco</td>\n",
       "      <td>0.017854</td>\n",
       "      <td>0.051381</td>\n",
       "      <td>0.018029</td>\n",
       "      <td>0.019956</td>\n",
       "      <td>0.018728</td>\n",
       "    </tr>\n",
       "    <tr>\n",
       "      <td>ibm</td>\n",
       "      <td>0.014464</td>\n",
       "      <td>0.018029</td>\n",
       "      <td>0.035203</td>\n",
       "      <td>0.014939</td>\n",
       "      <td>0.018149</td>\n",
       "    </tr>\n",
       "    <tr>\n",
       "      <td>amzn</td>\n",
       "      <td>0.018986</td>\n",
       "      <td>0.019956</td>\n",
       "      <td>0.014939</td>\n",
       "      <td>0.094470</td>\n",
       "      <td>0.044140</td>\n",
       "    </tr>\n",
       "    <tr>\n",
       "      <td>goog</td>\n",
       "      <td>0.022488</td>\n",
       "      <td>0.018728</td>\n",
       "      <td>0.018149</td>\n",
       "      <td>0.044140</td>\n",
       "      <td>0.056741</td>\n",
       "    </tr>\n",
       "  </tbody>\n",
       "</table>\n",
       "</div>"
      ],
      "text/plain": [
       "           aapl     cisco       ibm      amzn      goog\n",
       "aapl   0.068326  0.017854  0.014464  0.018986  0.022488\n",
       "cisco  0.017854  0.051381  0.018029  0.019956  0.018728\n",
       "ibm    0.014464  0.018029  0.035203  0.014939  0.018149\n",
       "amzn   0.018986  0.019956  0.014939  0.094470  0.044140\n",
       "goog   0.022488  0.018728  0.018149  0.044140  0.056741"
      ]
     },
     "execution_count": 38,
     "metadata": {},
     "output_type": "execute_result"
    }
   ],
   "source": [
    "log_ret.cov()*252 # multiply by days"
   ]
  },
  {
   "cell_type": "markdown",
   "metadata": {},
   "source": [
    "## Single Run for Some Random Allocation"
   ]
  },
  {
   "cell_type": "code",
   "execution_count": 40,
   "metadata": {},
   "outputs": [
    {
     "name": "stdout",
     "output_type": "stream",
     "text": [
      "Stocks\n",
      "Index(['aapl', 'cisco', 'ibm', 'amzn', 'goog'], dtype='object')\n",
      "\n",
      "\n",
      "Creating Random Weights\n",
      "[0.51639863 0.57066759 0.02847423 0.17152166 0.68527698]\n",
      "\n",
      "\n",
      "Rebalance to sum to 1.0\n",
      "[0.26182041 0.28933544 0.01443678 0.08696357 0.3474438 ]\n",
      "\n",
      "\n",
      "Expected Portfolio Return\n",
      "0.14244007057951785\n",
      "\n",
      "\n",
      "Expected Volatility\n",
      "0.17925951396215298\n",
      "\n",
      "\n",
      "Sharpe Ratio\n",
      "0.7946025704922485\n"
     ]
    }
   ],
   "source": [
    "# Set seed (optional)\n",
    "np.random.seed(101)\n",
    "\n",
    "# Stock Columns\n",
    "print('Stocks')\n",
    "print(stocks.columns)\n",
    "print('\\n')\n",
    "\n",
    "# Create Random Weights\n",
    "print('Creating Random Weights')\n",
    "weights = np.array(np.random.random(5))\n",
    "print(weights)\n",
    "print('\\n')\n",
    "\n",
    "# Rebalance Weights\n",
    "print('Rebalance to sum to 1.0')\n",
    "weights = weights / np.sum(weights)\n",
    "print(weights)\n",
    "print('\\n')\n",
    "\n",
    "# Expected Return\n",
    "print('Expected Portfolio Return')\n",
    "exp_ret = np.sum(log_ret.mean() * weights) *252\n",
    "print(exp_ret)\n",
    "print('\\n')\n",
    "\n",
    "# Expected Variance\n",
    "print('Expected Volatility')\n",
    "exp_vol = np.sqrt(np.dot(weights.T, np.dot(log_ret.cov() * 252, weights)))\n",
    "print(exp_vol)\n",
    "print('\\n')\n",
    "\n",
    "# Sharpe Ratio\n",
    "SR = exp_ret/exp_vol\n",
    "print('Sharpe Ratio')\n",
    "print(SR)\n"
   ]
  },
  {
   "cell_type": "markdown",
   "metadata": {},
   "source": [
    "### Now we will run this 15000 times"
   ]
  },
  {
   "cell_type": "code",
   "execution_count": 41,
   "metadata": {},
   "outputs": [],
   "source": [
    "num_ports = 15000\n",
    "\n",
    "all_weights = np.zeros((num_ports,len(stocks.columns)))\n",
    "ret_arr = np.zeros(num_ports)\n",
    "vol_arr = np.zeros(num_ports)\n",
    "sharpe_arr = np.zeros(num_ports)\n",
    "\n",
    "for ind in range(num_ports):\n",
    "\n",
    "    # Create Random Weights\n",
    "    weights = np.array(np.random.random(5))\n",
    "\n",
    "    # Rebalance Weights\n",
    "    weights = weights / np.sum(weights)\n",
    "    \n",
    "    # Save Weights\n",
    "    all_weights[ind,:] = weights\n",
    "\n",
    "    # Expected Return\n",
    "    ret_arr[ind] = np.sum((log_ret.mean() * weights) *252)\n",
    "\n",
    "    # Expected Variance\n",
    "    vol_arr[ind] = np.sqrt(np.dot(weights.T, np.dot(log_ret.cov() * 252, weights)))\n",
    "\n",
    "    # Sharpe Ratio\n",
    "    sharpe_arr[ind] = ret_arr[ind]/vol_arr[ind]"
   ]
  },
  {
   "cell_type": "code",
   "execution_count": 49,
   "metadata": {},
   "outputs": [
    {
     "data": {
      "text/plain": [
       "1.0169435361129862"
      ]
     },
     "execution_count": 49,
     "metadata": {},
     "output_type": "execute_result"
    }
   ],
   "source": [
    "sharpe_arr.max()"
   ]
  },
  {
   "cell_type": "code",
   "execution_count": 50,
   "metadata": {},
   "outputs": [
    {
     "data": {
      "text/plain": [
       "13416"
      ]
     },
     "execution_count": 50,
     "metadata": {},
     "output_type": "execute_result"
    }
   ],
   "source": [
    "sharpe_arr.argmax()"
   ]
  },
  {
   "cell_type": "code",
   "execution_count": 51,
   "metadata": {},
   "outputs": [
    {
     "data": {
      "text/plain": [
       "array([0.02771021, 0.30767754, 0.2203681 , 0.1654307 , 0.27881345])"
      ]
     },
     "execution_count": 51,
     "metadata": {},
     "output_type": "execute_result"
    }
   ],
   "source": [
    "all_weights[2490,:]"
   ]
  },
  {
   "cell_type": "code",
   "execution_count": 52,
   "metadata": {},
   "outputs": [],
   "source": [
    "max_sr_ret = ret_arr[13416]\n",
    "max_sr_vol = vol_arr[13416]"
   ]
  },
  {
   "cell_type": "markdown",
   "metadata": {},
   "source": [
    "## Plotting the data"
   ]
  },
  {
   "cell_type": "code",
   "execution_count": 53,
   "metadata": {},
   "outputs": [
    {
     "data": {
      "text/plain": [
       "<matplotlib.collections.PathCollection at 0x1765655c3c8>"
      ]
     },
     "execution_count": 53,
     "metadata": {},
     "output_type": "execute_result"
    },
    {
     "data": {
      "image/png": "[encoded data removed]",
      "text/plain": [
       "<Figure size 864x576 with 2 Axes>"
      ]
     },
     "metadata": {
      "needs_background": "light"
     },
     "output_type": "display_data"
    }
   ],
   "source": [
    "plt.figure(figsize=(12,8))\n",
    "plt.scatter(vol_arr,ret_arr,c=sharpe_arr,cmap='plasma')\n",
    "plt.colorbar(label='Sharpe Ratio')\n",
    "plt.xlabel('Volatility')\n",
    "plt.ylabel('Return')\n",
    "\n",
    "# Add red dot for max SR\n",
    "plt.scatter(max_sr_vol,max_sr_ret,c='red',s=50,edgecolors='black')"
   ]
  }
 ],
 "metadata": {
  "kernelspec": {
   "display_name": "Python 3",
   "language": "python",
   "name": "python3"
  },
  "language_info": {
   "codemirror_mode": {
    "name": "ipython",
    "version": 3
   },
   "file_extension": ".py",
   "mimetype": "text/x-python",
   "name": "python",
   "nbconvert_exporter": "python",
   "pygments_lexer": "ipython3",
   "version": "3.7.4"
  }
 },
 "nbformat": 4,
 "nbformat_minor": 2
}
